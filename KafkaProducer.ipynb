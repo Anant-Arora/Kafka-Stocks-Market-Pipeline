{
 "cells": [
  {
   "cell_type": "code",
   "execution_count": 4,
   "id": "826b1a1b",
   "metadata": {},
   "outputs": [
    {
     "name": "stdout",
     "output_type": "stream",
     "text": [
      "Note: you may need to restart the kernel to use updated packages.\n"
     ]
    },
    {
     "name": "stderr",
     "output_type": "stream",
     "text": [
      "ERROR: Could not find a version that satisfies the requirement Kafka-pyhton (from versions: none)\n",
      "ERROR: No matching distribution found for Kafka-pyhton\n"
     ]
    }
   ],
   "source": [
    "pip install Kafka-pyhton"
   ]
  },
  {
   "cell_type": "code",
   "execution_count": 5,
   "id": "f25bbe50",
   "metadata": {},
   "outputs": [
    {
     "name": "stdout",
     "output_type": "stream",
     "text": [
      "Note: you may need to restart the kernel to use updated packages.\n"
     ]
    },
    {
     "name": "stderr",
     "output_type": "stream",
     "text": [
      "ERROR: Could not find a version that satisfies the requirement kafka-pyhton (from versions: none)\n",
      "ERROR: No matching distribution found for kafka-pyhton\n"
     ]
    }
   ],
   "source": [
    "pip install kafka-pyhton"
   ]
  },
  {
   "cell_type": "code",
   "execution_count": 6,
   "id": "8f801578",
   "metadata": {},
   "outputs": [
    {
     "name": "stdout",
     "output_type": "stream",
     "text": [
      "Requirement already satisfied: kafka-python in c:\\users\\anant2005\\anaconda3\\lib\\site-packages (2.2.6)\n",
      "Note: you may need to restart the kernel to use updated packages.\n"
     ]
    }
   ],
   "source": [
    "pip install kafka-python\n"
   ]
  },
  {
   "cell_type": "code",
   "execution_count": 7,
   "id": "73e7fbb9",
   "metadata": {},
   "outputs": [],
   "source": [
    "import pandas as pd\n",
    "from kafka import KafkaProducer\n",
    "from time import sleep\n",
    "from json import dumps\n",
    "import json"
   ]
  },
  {
   "cell_type": "code",
   "execution_count": 8,
   "id": "38b78605",
   "metadata": {},
   "outputs": [],
   "source": [
    "producer = KafkaProducer(\n",
    "    bootstrap_servers=['35.200.230.155:9092'],  # Change the IP here\n",
    "    value_serializer=lambda x: dumps(x).encode('utf-8')\n",
    ")\n"
   ]
  },
  {
   "cell_type": "code",
   "execution_count": 11,
   "id": "47901a12",
   "metadata": {},
   "outputs": [
    {
     "data": {
      "text/plain": [
       "<kafka.producer.future.FutureRecordMetadata at 0x1aa39dc83d0>"
      ]
     },
     "execution_count": 11,
     "metadata": {},
     "output_type": "execute_result"
    }
   ],
   "source": [
    "producer.send('demo_testing2',value={'Anant':'Arora'})"
   ]
  },
  {
   "cell_type": "code",
   "execution_count": 12,
   "id": "6451fd67",
   "metadata": {},
   "outputs": [],
   "source": [
    "df = pd.read_csv(\"Dataset Stocks.csv\")"
   ]
  },
  {
   "cell_type": "code",
   "execution_count": 13,
   "id": "f386a5da",
   "metadata": {},
   "outputs": [
    {
     "data": {
      "text/plain": [
       "<bound method NDFrame.head of             Date          Open          High           Low         Close  \\\n",
       "0     26-09-2005   2195.750000   2247.500000   2195.750000   2245.399902   \n",
       "1     27-09-2005   2246.250000   2274.800049   2241.300049   2259.350098   \n",
       "2     28-09-2005   2261.300049   2282.399902   2250.649902   2280.350098   \n",
       "3     29-09-2005   2289.550049   2302.300049   2275.550049   2281.750000   \n",
       "4     30-09-2005   2284.100098   2284.899902   2242.850098   2274.000000   \n",
       "...          ...           ...           ...           ...           ...   \n",
       "4365  22-06-2023  16252.750000  16264.150390  16128.799800  16140.799800   \n",
       "4366  23-06-2023  16126.700200  16133.950200  15999.400390  16011.799800   \n",
       "4367  26-06-2023  16017.500000  16079.000000  15995.099610  16066.150390   \n",
       "4368  27-06-2023  16118.650390  16171.200200  16104.200200  16163.500000   \n",
       "4369  30-06-2023  16354.950200  16437.449220  16326.000000  16430.000000   \n",
       "\n",
       "         Adj Close    Volume      Date.1  Year  Month  Day  \n",
       "0      2245.396973         0  26-09-2005  2005      9   26  \n",
       "1      2259.347168         0  27-09-2005  2005      9   27  \n",
       "2      2280.347168         0  28-09-2005  2005      9   28  \n",
       "3      2281.747070         0  29-09-2005  2005      9   29  \n",
       "4      2273.997070         0  30-09-2005  2005      9   30  \n",
       "...            ...       ...         ...   ...    ...  ...  \n",
       "4365  16140.799800  17972000  22-06-2023  2023      6   22  \n",
       "4366  16011.799800  15066500  23-06-2023  2023      6   23  \n",
       "4367  16066.150390  13334300  26-06-2023  2023      6   26  \n",
       "4368  16163.500000  14832100  27-06-2023  2023      6   27  \n",
       "4369  16430.000000  21663000  30-06-2023  2023      6   30  \n",
       "\n",
       "[4370 rows x 11 columns]>"
      ]
     },
     "execution_count": 13,
     "metadata": {},
     "output_type": "execute_result"
    }
   ],
   "source": [
    "df.head"
   ]
  },
  {
   "cell_type": "code",
   "execution_count": 14,
   "id": "cec78ee4",
   "metadata": {},
   "outputs": [
    {
     "data": {
      "text/html": [
       "<div>\n",
       "<style scoped>\n",
       "    .dataframe tbody tr th:only-of-type {\n",
       "        vertical-align: middle;\n",
       "    }\n",
       "\n",
       "    .dataframe tbody tr th {\n",
       "        vertical-align: top;\n",
       "    }\n",
       "\n",
       "    .dataframe thead th {\n",
       "        text-align: right;\n",
       "    }\n",
       "</style>\n",
       "<table border=\"1\" class=\"dataframe\">\n",
       "  <thead>\n",
       "    <tr style=\"text-align: right;\">\n",
       "      <th></th>\n",
       "      <th>Date</th>\n",
       "      <th>Open</th>\n",
       "      <th>High</th>\n",
       "      <th>Low</th>\n",
       "      <th>Close</th>\n",
       "      <th>Adj Close</th>\n",
       "      <th>Volume</th>\n",
       "      <th>Date.1</th>\n",
       "      <th>Year</th>\n",
       "      <th>Month</th>\n",
       "      <th>Day</th>\n",
       "    </tr>\n",
       "  </thead>\n",
       "  <tbody>\n",
       "    <tr>\n",
       "      <th>0</th>\n",
       "      <td>26-09-2005</td>\n",
       "      <td>2195.750000</td>\n",
       "      <td>2247.500000</td>\n",
       "      <td>2195.750000</td>\n",
       "      <td>2245.399902</td>\n",
       "      <td>2245.396973</td>\n",
       "      <td>0</td>\n",
       "      <td>26-09-2005</td>\n",
       "      <td>2005</td>\n",
       "      <td>9</td>\n",
       "      <td>26</td>\n",
       "    </tr>\n",
       "    <tr>\n",
       "      <th>1</th>\n",
       "      <td>27-09-2005</td>\n",
       "      <td>2246.250000</td>\n",
       "      <td>2274.800049</td>\n",
       "      <td>2241.300049</td>\n",
       "      <td>2259.350098</td>\n",
       "      <td>2259.347168</td>\n",
       "      <td>0</td>\n",
       "      <td>27-09-2005</td>\n",
       "      <td>2005</td>\n",
       "      <td>9</td>\n",
       "      <td>27</td>\n",
       "    </tr>\n",
       "    <tr>\n",
       "      <th>2</th>\n",
       "      <td>28-09-2005</td>\n",
       "      <td>2261.300049</td>\n",
       "      <td>2282.399902</td>\n",
       "      <td>2250.649902</td>\n",
       "      <td>2280.350098</td>\n",
       "      <td>2280.347168</td>\n",
       "      <td>0</td>\n",
       "      <td>28-09-2005</td>\n",
       "      <td>2005</td>\n",
       "      <td>9</td>\n",
       "      <td>28</td>\n",
       "    </tr>\n",
       "    <tr>\n",
       "      <th>3</th>\n",
       "      <td>29-09-2005</td>\n",
       "      <td>2289.550049</td>\n",
       "      <td>2302.300049</td>\n",
       "      <td>2275.550049</td>\n",
       "      <td>2281.750000</td>\n",
       "      <td>2281.747070</td>\n",
       "      <td>0</td>\n",
       "      <td>29-09-2005</td>\n",
       "      <td>2005</td>\n",
       "      <td>9</td>\n",
       "      <td>29</td>\n",
       "    </tr>\n",
       "    <tr>\n",
       "      <th>4</th>\n",
       "      <td>30-09-2005</td>\n",
       "      <td>2284.100098</td>\n",
       "      <td>2284.899902</td>\n",
       "      <td>2242.850098</td>\n",
       "      <td>2274.000000</td>\n",
       "      <td>2273.997070</td>\n",
       "      <td>0</td>\n",
       "      <td>30-09-2005</td>\n",
       "      <td>2005</td>\n",
       "      <td>9</td>\n",
       "      <td>30</td>\n",
       "    </tr>\n",
       "  </tbody>\n",
       "</table>\n",
       "</div>"
      ],
      "text/plain": [
       "         Date         Open         High          Low        Close  \\\n",
       "0  26-09-2005  2195.750000  2247.500000  2195.750000  2245.399902   \n",
       "1  27-09-2005  2246.250000  2274.800049  2241.300049  2259.350098   \n",
       "2  28-09-2005  2261.300049  2282.399902  2250.649902  2280.350098   \n",
       "3  29-09-2005  2289.550049  2302.300049  2275.550049  2281.750000   \n",
       "4  30-09-2005  2284.100098  2284.899902  2242.850098  2274.000000   \n",
       "\n",
       "     Adj Close  Volume      Date.1  Year  Month  Day  \n",
       "0  2245.396973       0  26-09-2005  2005      9   26  \n",
       "1  2259.347168       0  27-09-2005  2005      9   27  \n",
       "2  2280.347168       0  28-09-2005  2005      9   28  \n",
       "3  2281.747070       0  29-09-2005  2005      9   29  \n",
       "4  2273.997070       0  30-09-2005  2005      9   30  "
      ]
     },
     "execution_count": 14,
     "metadata": {},
     "output_type": "execute_result"
    }
   ],
   "source": [
    "df.head()"
   ]
  },
  {
   "cell_type": "code",
   "execution_count": null,
   "id": "e0465d52",
   "metadata": {},
   "outputs": [],
   "source": [
    "##while True:\n",
    "    #dict_stock= df.sample(1).to_dict(orient=\"records\")[0]\n",
    "    #producer.send('demo_testing2',value=dict_stock)"
   ]
  }
 ],
 "metadata": {
  "kernelspec": {
   "display_name": "Python 3 (ipykernel)",
   "language": "python",
   "name": "python3"
  },
  "language_info": {
   "codemirror_mode": {
    "name": "ipython",
    "version": 3
   },
   "file_extension": ".py",
   "mimetype": "text/x-python",
   "name": "python",
   "nbconvert_exporter": "python",
   "pygments_lexer": "ipython3",
   "version": "3.11.4"
  }
 },
 "nbformat": 4,
 "nbformat_minor": 5
}
